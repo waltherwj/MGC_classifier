{
 "cells": [
  {
   "cell_type": "code",
   "execution_count": null,
   "metadata": {
    "colab": {
     "base_uri": "https://localhost:8080/"
    },
    "id": "KUXWvmsDyF9N",
    "outputId": "006a97ba-ee24-4f24-e301-f79b14b56e27"
   },
   "outputs": [
    {
     "name": "stdout",
     "output_type": "stream",
     "text": [
      "Collecting hyppo\n",
      "\u001b[?25l  Downloading https://files.pythonhosted.org/packages/02/dc/c50a64e8253d020118cfe3b4fe21e2ddc402e40a315a3afb215a251a7783/hyppo-0.2.1.tar.gz (60kB)\n",
      "\u001b[K     |████████████████████████████████| 61kB 3.2MB/s \n",
      "\u001b[?25hRequirement already satisfied: numpy>=1.17 in /usr/local/lib/python3.7/dist-packages (from hyppo) (1.19.5)\n",
      "Requirement already satisfied: scipy>=1.4.0 in /usr/local/lib/python3.7/dist-packages (from hyppo) (1.4.1)\n",
      "Requirement already satisfied: numba>=0.46 in /usr/local/lib/python3.7/dist-packages (from hyppo) (0.51.2)\n",
      "Requirement already satisfied: scikit-learn>=0.19.1 in /usr/local/lib/python3.7/dist-packages (from hyppo) (0.22.2.post1)\n",
      "Requirement already satisfied: setuptools in /usr/local/lib/python3.7/dist-packages (from numba>=0.46->hyppo) (56.0.0)\n",
      "Requirement already satisfied: llvmlite<0.35,>=0.34.0.dev0 in /usr/local/lib/python3.7/dist-packages (from numba>=0.46->hyppo) (0.34.0)\n",
      "Requirement already satisfied: joblib>=0.11 in /usr/local/lib/python3.7/dist-packages (from scikit-learn>=0.19.1->hyppo) (1.0.1)\n",
      "Building wheels for collected packages: hyppo\n",
      "  Building wheel for hyppo (setup.py) ... \u001b[?25l\u001b[?25hdone\n",
      "  Created wheel for hyppo: filename=hyppo-0.2.1-cp37-none-any.whl size=98836 sha256=ffe896de9a604d036ba20d391142d340430e32e4f8a7e7821f628e7e30c58429\n",
      "  Stored in directory: /root/.cache/pip/wheels/ea/ea/b1/df7c33975256fd60ab8abfc467fcc0247e66a2a7cff3e2d933\n",
      "Successfully built hyppo\n",
      "Installing collected packages: hyppo\n",
      "Successfully installed hyppo-0.2.1\n"
     ]
    }
   ],
   "source": [
    "!pip install hyppo"
   ]
  },
  {
   "cell_type": "code",
   "execution_count": 43,
   "metadata": {
    "id": "RrBjbv9Y7BCn"
   },
   "outputs": [],
   "source": [
    "#imports\n",
    "from scipy.stats import multiscale_graphcorr as MGC\n",
    "import scipy\n",
    "import numpy as np\n",
    "import torch\n",
    "import matplotlib.pyplot as plt\n",
    "from inspect import getmembers\n",
    "import inspect\n",
    "import warnings\n",
    "import hyppo\n",
    "import sys\n",
    "from pathlib import Path\n",
    "import pickle\n",
    "import glob\n"
   ]
  },
  {
   "cell_type": "markdown",
   "metadata": {
    "id": "fkn_C4aaAsRq"
   },
   "source": [
    "https://stackoverflow.com/questions/43729052/generator-function-yield-much-faster-then-iterator-class-next\n",
    "Explains what type of function/generator to use for performance"
   ]
  },
  {
   "cell_type": "code",
   "execution_count": 69,
   "metadata": {},
   "outputs": [],
   "source": [
    "def get_size(obj, seen=None):\n",
    "    \"\"\"Recursively finds size of objects\"\"\"\n",
    "    size = sys.getsizeof(obj)\n",
    "    if seen is None:\n",
    "        seen = set()\n",
    "    obj_id = id(obj)\n",
    "    if obj_id in seen:\n",
    "        return 0\n",
    "    # Important mark as seen *before* entering recursion to gracefully handle\n",
    "    # self-referential objects\n",
    "    seen.add(obj_id)\n",
    "    if isinstance(obj, dict):\n",
    "        size += sum([get_size(v, seen) for v in obj.values()])\n",
    "        size += sum([get_size(k, seen) for k in obj.keys()])\n",
    "    elif hasattr(obj, '__dict__'):\n",
    "        size += get_size(obj.__dict__, seen)\n",
    "    elif hasattr(obj, '__iter__') and not isinstance(obj, (str, bytes, bytearray)):\n",
    "        size += sum([get_size(i, seen) for i in obj])\n",
    "    return size  "
   ]
  },
  {
   "cell_type": "code",
   "execution_count": null,
   "metadata": {
    "colab": {
     "base_uri": "https://localhost:8080/",
     "height": 1000
    },
    "id": "I1kvJpw2PMPJ",
    "outputId": "da33a747-a460-4d96-c65a-aca7b1cc696e"
   },
   "outputs": [
    {
     "name": "stdout",
     "output_type": "stream",
     "text": [
      "36 35"
     ]
    },
    {
     "name": "stderr",
     "output_type": "stream",
     "text": [
      "<ipython-input-74-ee257688a383>:115: RuntimeWarning: invalid value encountered in true_divide\n",
      "  y_prev = (y_prev - y_prev.min()) /(y_prev.max() - y_prev.min())\n"
     ]
    },
    {
     "name": "stdout",
     "output_type": "stream",
     "text": [
      "63 62"
     ]
    },
    {
     "name": "stderr",
     "output_type": "stream",
     "text": [
      "<ipython-input-74-ee257688a383>:115: RuntimeWarning: invalid value encountered in true_divide\n",
      "  y_prev = (y_prev - y_prev.min()) /(y_prev.max() - y_prev.min())\n"
     ]
    },
    {
     "name": "stdout",
     "output_type": "stream",
     "text": [
      "79 7710056498\n",
      "159 7910072312\n",
      "243 8310084153\n",
      "325 8110084099\n",
      "407 8110083108\n",
      "485 7710061370\n",
      "565 7910070477\n",
      "652 8610110173\n",
      "736 8310090570\n",
      "813 7610059203\n",
      "894 8010074877\n",
      "982 8710110089\n",
      "1065 8210083413\n",
      "1144 7710067284\n",
      "1158 12"
     ]
    },
    {
     "name": "stderr",
     "output_type": "stream",
     "text": [
      "<ipython-input-74-ee257688a383>:115: RuntimeWarning: invalid value encountered in true_divide\n",
      "  y_prev = (y_prev - y_prev.min()) /(y_prev.max() - y_prev.min())\n"
     ]
    },
    {
     "name": "stdout",
     "output_type": "stream",
     "text": [
      "1229 8210089028\n",
      "1308 7810071351\n",
      "1392 8210088619\n",
      "1470 7710058665\n",
      "1521 48"
     ]
    },
    {
     "name": "stderr",
     "output_type": "stream",
     "text": [
      "<ipython-input-74-ee257688a383>:115: RuntimeWarning: invalid value encountered in true_divide\n",
      "  y_prev = (y_prev - y_prev.min()) /(y_prev.max() - y_prev.min())\n"
     ]
    },
    {
     "name": "stdout",
     "output_type": "stream",
     "text": [
      "1555 8210089203\n",
      "1637 8010081746\n",
      "1715 7710067073\n",
      "1796 8010066228\n",
      "1876 7910069680\n",
      "1953 7610053326\n",
      "2038 8410092394\n",
      "2117 7810059431\n",
      "2205 8710113219\n",
      "2287 8110086526\n",
      "2369 8110079420\n",
      "2452 8110079911\n",
      "2531 7810065477\n",
      "2609 7710059789\n",
      "2690 8010070511\n",
      "2770 7910067315\n",
      "2849 7810069991\n",
      "2932 8210083265\n",
      "3016 8310088963\n",
      "3091 73"
     ]
    },
    {
     "name": "stderr",
     "output_type": "stream",
     "text": [
      "<ipython-input-74-ee257688a383>:115: RuntimeWarning: invalid value encountered in true_divide\n",
      "  y_prev = (y_prev - y_prev.min()) /(y_prev.max() - y_prev.min())\n"
     ]
    },
    {
     "name": "stdout",
     "output_type": "stream",
     "text": [
      "3095 7710045451\n",
      "3177 8110081137\n",
      "3194 15"
     ]
    },
    {
     "name": "stderr",
     "output_type": "stream",
     "text": [
      "<ipython-input-74-ee257688a383>:170: RuntimeWarning: invalid value encountered in true_divide\n",
      "  term = ((term - term.min())/(term.max()-term.min()))*np.random.random()\n"
     ]
    },
    {
     "name": "stdout",
     "output_type": "stream",
     "text": [
      "3260 8110086224\n",
      "3337 7610048692\n",
      "3414 7610052682\n",
      "3495 8010063598\n",
      "3581 8510104799\n",
      "3659 7710060660\n",
      "3738 7810069547\n",
      "3815 7610047658\n",
      "3901 8510099846\n",
      "3978 7610061675\n",
      "4063 8310089522\n",
      "4142 7810055944\n",
      "4221 7810060499\n",
      "4298 7610056058\n",
      "4386 8710114811\n",
      "4455 67"
     ]
    },
    {
     "name": "stderr",
     "output_type": "stream",
     "text": [
      "<ipython-input-74-ee257688a383>:170: RuntimeWarning: invalid value encountered in true_divide\n",
      "  term = ((term - term.min())/(term.max()-term.min()))*np.random.random()\n"
     ]
    },
    {
     "name": "stdout",
     "output_type": "stream",
     "text": [
      "4474 8610104516\n",
      "4556 8110080797\n",
      "4570 12"
     ]
    },
    {
     "name": "stderr",
     "output_type": "stream",
     "text": [
      "<ipython-input-74-ee257688a383>:170: RuntimeWarning: invalid value encountered in true_divide\n",
      "  term = ((term - term.min())/(term.max()-term.min()))*np.random.random()\n"
     ]
    },
    {
     "name": "stdout",
     "output_type": "stream",
     "text": [
      "4637 7910067002\n",
      "4720 8210089822\n",
      "4803 8210081682\n",
      "4885 8110085368\n",
      "4966 8010070019\n",
      "5046 7910073066\n",
      "5128 8110070882\n",
      "5209 8010078297\n",
      "5292 8210082462\n",
      "5373 7910064394\n",
      "5453 7810062436\n",
      "5535 8110078089\n",
      "5618 8210084464\n",
      "5697 7810069046\n",
      "5785 8710103127\n",
      "5868 8210087564\n",
      "5953 8410090709\n",
      "6033 7910066966\n",
      "6116 8210080118\n",
      "6200 8310096118\n",
      "6285 8410096676\n",
      "6371 8410096096\n",
      "6422 49"
     ]
    },
    {
     "name": "stderr",
     "output_type": "stream",
     "text": [
      "<ipython-input-74-ee257688a383>:115: RuntimeWarning: invalid value encountered in true_divide\n",
      "  y_prev = (y_prev - y_prev.min()) /(y_prev.max() - y_prev.min())\n"
     ]
    },
    {
     "name": "stdout",
     "output_type": "stream",
     "text": [
      "6459 8610112523\n",
      "6542 8210084112\n",
      "6626 8310087711\n",
      "6707 8010078944\n",
      "6789 8110075607\n",
      "6868 7810063612\n",
      "6948 7910070385\n",
      "7028 7910074498\n",
      "7111 8210087823\n",
      "7187 7510049323\n",
      "7268 8010077019\n",
      "7328 58"
     ]
    },
    {
     "name": "stderr",
     "output_type": "stream",
     "text": [
      "<ipython-input-74-ee257688a383>:170: RuntimeWarning: invalid value encountered in true_divide\n",
      "  term = ((term - term.min())/(term.max()-term.min()))*np.random.random()\n"
     ]
    },
    {
     "name": "stdout",
     "output_type": "stream",
     "text": [
      "7347 7710062467\n",
      "7364 15"
     ]
    },
    {
     "name": "stderr",
     "output_type": "stream",
     "text": [
      "<ipython-input-74-ee257688a383>:129: RuntimeWarning: invalid value encountered in true_divide\n",
      "  y_prev = (y_prev - y_prev.min()) /(y_prev.max() - y_prev.min())\n"
     ]
    },
    {
     "name": "stdout",
     "output_type": "stream",
     "text": [
      "7435 8610106305\n",
      "7516 8010074998\n",
      "7597 7910067527\n",
      "7680 8210080444\n",
      "7766 8510100994\n",
      "7850 8310090167\n",
      "7931 8010079703\n",
      "8008 7610055924\n",
      "8020 10"
     ]
    },
    {
     "name": "stderr",
     "output_type": "stream",
     "text": [
      "<ipython-input-74-ee257688a383>:115: RuntimeWarning: invalid value encountered in true_divide\n",
      "  y_prev = (y_prev - y_prev.min()) /(y_prev.max() - y_prev.min())\n"
     ]
    },
    {
     "name": "stdout",
     "output_type": "stream",
     "text": [
      "8089 7910066369\n",
      "8173 8310099584\n",
      "8253 7810071453\n",
      "8333 7910070380\n",
      "8417 8310090740\n",
      "8504 8510104016\n",
      "8586 8110076994\n",
      "8670 8210075451\n",
      "8754 8310094196\n",
      "8835 8010073271\n",
      "8917 8110079241\n",
      "8999 8010072988\n",
      "9045 45"
     ]
    },
    {
     "name": "stderr",
     "output_type": "stream",
     "text": [
      "<ipython-input-74-ee257688a383>:170: RuntimeWarning: invalid value encountered in true_divide\n",
      "  term = ((term - term.min())/(term.max()-term.min()))*np.random.random()\n"
     ]
    },
    {
     "name": "stdout",
     "output_type": "stream",
     "text": [
      "9083 8210078391\n",
      "9162 7810066830\n",
      "9245 8210080474\n",
      "9328 8210081655\n",
      "9406 7710062749\n",
      "9484 7710064804\n",
      "9565 7910068048\n",
      "9645 7910066988\n",
      "9726 8010062234\n",
      "9807 8010073583\n",
      "9825 16"
     ]
    },
    {
     "name": "stderr",
     "output_type": "stream",
     "text": [
      "<ipython-input-74-ee257688a383>:115: RuntimeWarning: invalid value encountered in true_divide\n",
      "  y_prev = (y_prev - y_prev.min()) /(y_prev.max() - y_prev.min())\n"
     ]
    },
    {
     "name": "stdout",
     "output_type": "stream",
     "text": [
      "9889 8010070371\n",
      "9970 8010074337\n",
      "10048 7610053196\n",
      "10113 63"
     ]
    },
    {
     "name": "stderr",
     "output_type": "stream",
     "text": [
      "<ipython-input-74-ee257688a383>:115: RuntimeWarning: invalid value encountered in true_divide\n",
      "  y_prev = (y_prev - y_prev.min()) /(y_prev.max() - y_prev.min())\n"
     ]
    },
    {
     "name": "stdout",
     "output_type": "stream",
     "text": [
      "10134 8410084515\n",
      "10216 8110077809\n",
      "10294 7710061490\n",
      "10351 55"
     ]
    },
    {
     "name": "stderr",
     "output_type": "stream",
     "text": [
      "<ipython-input-74-ee257688a383>:170: RuntimeWarning: invalid value encountered in true_divide\n",
      "  term = ((term - term.min())/(term.max()-term.min()))*np.random.random()\n"
     ]
    },
    {
     "name": "stdout",
     "output_type": "stream",
     "text": [
      "10377 8110084101\n",
      "10458 8010076947\n",
      "10542 8210080296\n",
      "10622 7910070335\n",
      "10703 8010075633\n",
      "10782 7810074218\n",
      "10862 7910072788\n",
      "10941 7810068492\n",
      "11019 7710064137\n",
      "11103 8310090502\n",
      "11183 7910071321\n",
      "11267 8310092316\n",
      "11350 8210080150\n",
      "11399 47"
     ]
    },
    {
     "name": "stderr",
     "output_type": "stream",
     "text": [
      "<ipython-input-74-ee257688a383>:115: RuntimeWarning: invalid value encountered in true_divide\n",
      "  y_prev = (y_prev - y_prev.min()) /(y_prev.max() - y_prev.min())\n"
     ]
    },
    {
     "name": "stdout",
     "output_type": "stream",
     "text": [
      "11434 8210080628\n",
      "11517 8210082771\n",
      "11563 45"
     ]
    },
    {
     "name": "stderr",
     "output_type": "stream",
     "text": [
      "<ipython-input-74-ee257688a383>:115: RuntimeWarning: invalid value encountered in true_divide\n",
      "  y_prev = (y_prev - y_prev.min()) /(y_prev.max() - y_prev.min())\n"
     ]
    },
    {
     "name": "stdout",
     "output_type": "stream",
     "text": [
      "11601 8210075703\n",
      "11651 48"
     ]
    },
    {
     "name": "stderr",
     "output_type": "stream",
     "text": [
      "<ipython-input-74-ee257688a383>:115: RuntimeWarning: invalid value encountered in true_divide\n",
      "  y_prev = (y_prev - y_prev.min()) /(y_prev.max() - y_prev.min())\n"
     ]
    },
    {
     "name": "stdout",
     "output_type": "stream",
     "text": [
      "11679 7610058924\n",
      "11760 8010071771\n",
      "11842 8010074080\n",
      "11878 34"
     ]
    },
    {
     "name": "stderr",
     "output_type": "stream",
     "text": [
      "<ipython-input-74-ee257688a383>:115: RuntimeWarning: invalid value encountered in true_divide\n",
      "  y_prev = (y_prev - y_prev.min()) /(y_prev.max() - y_prev.min())\n"
     ]
    },
    {
     "name": "stdout",
     "output_type": "stream",
     "text": [
      "11923 7910072962\n",
      "11933 8"
     ]
    },
    {
     "name": "stderr",
     "output_type": "stream",
     "text": [
      "<ipython-input-74-ee257688a383>:170: RuntimeWarning: invalid value encountered in true_divide\n",
      "  term = ((term - term.min())/(term.max()-term.min()))*np.random.random()\n"
     ]
    },
    {
     "name": "stdout",
     "output_type": "stream",
     "text": [
      "11947 21"
     ]
    },
    {
     "name": "stderr",
     "output_type": "stream",
     "text": [
      "<ipython-input-74-ee257688a383>:129: RuntimeWarning: invalid value encountered in true_divide\n",
      "  y_prev = (y_prev - y_prev.min()) /(y_prev.max() - y_prev.min())\n"
     ]
    },
    {
     "name": "stdout",
     "output_type": "stream",
     "text": [
      "12007 8110084555\n",
      "12017 9"
     ]
    },
    {
     "name": "stderr",
     "output_type": "stream",
     "text": [
      "<ipython-input-74-ee257688a383>:170: RuntimeWarning: invalid value encountered in true_divide\n",
      "  term = ((term - term.min())/(term.max()-term.min()))*np.random.random()\n"
     ]
    },
    {
     "name": "stdout",
     "output_type": "stream",
     "text": [
      "12093 8410099492\n",
      "12179 8510106589\n",
      "12262 8210088131\n",
      "12342 7910072685\n",
      "12423 8010075373\n",
      "12502 7810062820\n",
      "12581 7810070761\n",
      "12660 7610054684\n",
      "12743 8210076296\n",
      "12823 7910062649\n",
      "12904 8010080745\n",
      "12987 8210083107\n",
      "13071 8310087332\n",
      "13144 71"
     ]
    },
    {
     "name": "stderr",
     "output_type": "stream",
     "text": [
      "<ipython-input-74-ee257688a383>:129: RuntimeWarning: invalid value encountered in true_divide\n",
      "  y_prev = (y_prev - y_prev.min()) /(y_prev.max() - y_prev.min())\n"
     ]
    },
    {
     "name": "stdout",
     "output_type": "stream",
     "text": [
      "13157 8410092251\n",
      "13233 7510052031\n",
      "13313 7810067407\n",
      "13392 7810066381\n",
      "13472 7910069449\n",
      "13554 8110073513\n",
      "13591 35"
     ]
    },
    {
     "name": "stderr",
     "output_type": "stream",
     "text": [
      "<ipython-input-74-ee257688a383>:129: RuntimeWarning: invalid value encountered in true_divide\n",
      "  y_prev = (y_prev - y_prev.min()) /(y_prev.max() - y_prev.min())\n"
     ]
    },
    {
     "name": "stdout",
     "output_type": "stream",
     "text": [
      "13636 8010080898\n",
      "13718 8110080461\n",
      "13800 8110081028\n",
      "13881 8010066269\n",
      "13966 8310082785\n",
      "14051 8410101887\n",
      "14131 7910072825\n",
      "14212 8010072048\n",
      "14290 7710054507\n",
      "14371 8010078496\n",
      "14450 7810061362\n",
      "14532 8110074312\n",
      "14570 36"
     ]
    },
    {
     "name": "stderr",
     "output_type": "stream",
     "text": [
      "<ipython-input-74-ee257688a383>:115: RuntimeWarning: invalid value encountered in true_divide\n",
      "  y_prev = (y_prev - y_prev.min()) /(y_prev.max() - y_prev.min())\n"
     ]
    },
    {
     "name": "stdout",
     "output_type": "stream",
     "text": [
      "14619 8510096713\n",
      "14700 7910070790\n",
      "14783 8210087060\n",
      "14863 7910073466\n",
      "14944 8010079524\n",
      "15025 8010077786\n",
      "15105 7910057656\n",
      "15189 8310093563\n",
      "15272 8210085944\n",
      "15317 43"
     ]
    },
    {
     "name": "stderr",
     "output_type": "stream",
     "text": [
      "<ipython-input-74-ee257688a383>:115: RuntimeWarning: invalid value encountered in true_divide\n",
      "  y_prev = (y_prev - y_prev.min()) /(y_prev.max() - y_prev.min())\n",
      "<ipython-input-74-ee257688a383>:115: RuntimeWarning: invalid value encountered in true_divide\n",
      "  y_prev = (y_prev - y_prev.min()) /(y_prev.max() - y_prev.min())\n"
     ]
    },
    {
     "name": "stdout",
     "output_type": "stream",
     "text": [
      "15355 8010073154\n",
      "15390 33"
     ]
    },
    {
     "name": "stderr",
     "output_type": "stream",
     "text": [
      "<ipython-input-74-ee257688a383>:115: RuntimeWarning: invalid value encountered in true_divide\n",
      "  y_prev = (y_prev - y_prev.min()) /(y_prev.max() - y_prev.min())\n"
     ]
    },
    {
     "name": "stdout",
     "output_type": "stream",
     "text": [
      "15441 8410090621\n",
      "15521 7910069815\n",
      "15601 7910073564\n",
      "15680 7810065782\n",
      "15763 8210085632\n",
      "15843 7910072164\n",
      "15926 8210079371\n",
      "16006 7910067163\n",
      "16093 8610102689\n",
      "16176 8210083312\n",
      "16223 45"
     ]
    },
    {
     "name": "stderr",
     "output_type": "stream",
     "text": [
      "<ipython-input-74-ee257688a383>:115: RuntimeWarning: invalid value encountered in true_divide\n",
      "  y_prev = (y_prev - y_prev.min()) /(y_prev.max() - y_prev.min())\n"
     ]
    },
    {
     "name": "stdout",
     "output_type": "stream",
     "text": [
      "16260 8210083750\n",
      "16347 8610099376\n",
      "16431 8310091250\n",
      "16511 7910068637\n",
      "16593 8110081772\n",
      "16675 8110075367\n",
      "16761 8510100683\n",
      "16847 8410098716\n",
      "16928 8010074555\n",
      "17007 7810066356\n",
      "17086 7810064688\n",
      "17165 7810067196\n",
      "17247 8010076300\n",
      "17335 8710115985\n",
      "17413 7610059393\n",
      "17493 7910072066\n",
      "17574 8010078353\n",
      "17658 8310084174\n",
      "17745 8610100102\n",
      "17774 27"
     ]
    },
    {
     "name": "stderr",
     "output_type": "stream",
     "text": [
      "<ipython-input-74-ee257688a383>:115: RuntimeWarning: invalid value encountered in true_divide\n",
      "  y_prev = (y_prev - y_prev.min()) /(y_prev.max() - y_prev.min())\n"
     ]
    },
    {
     "name": "stdout",
     "output_type": "stream",
     "text": [
      "17806 58"
     ]
    },
    {
     "name": "stderr",
     "output_type": "stream",
     "text": [
      "<ipython-input-74-ee257688a383>:115: RuntimeWarning: invalid value encountered in true_divide\n",
      "  y_prev = (y_prev - y_prev.min()) /(y_prev.max() - y_prev.min())\n"
     ]
    },
    {
     "name": "stdout",
     "output_type": "stream",
     "text": [
      "17834 8610106130\n",
      "17917 8210089430\n",
      "17995 7610053619\n",
      "18072 7610057520\n",
      "18156 8210079983\n",
      "18241 8410095789\n",
      "18322 8010070724\n",
      "18402 7910073119\n",
      "18487 8410091020\n",
      "18569 8110075687\n",
      "18655 8510101357\n",
      "18705 48"
     ]
    },
    {
     "name": "stderr",
     "output_type": "stream",
     "text": [
      "<ipython-input-74-ee257688a383>:170: RuntimeWarning: invalid value encountered in true_divide\n",
      "  term = ((term - term.min())/(term.max()-term.min()))*np.random.random()\n"
     ]
    },
    {
     "name": "stdout",
     "output_type": "stream",
     "text": [
      "18741 8310095494\n",
      "18824 8210084984\n",
      "18902 7710061634\n",
      "18983 8010068150\n",
      "19073 8910120197\n",
      "19158 8310088901\n",
      "19240 8110084857\n",
      "19322 8010074069\n",
      "19401 7810069806\n",
      "19483 8110084293\n",
      "19565 8110078854\n",
      "19648 8110080787\n",
      "19729 7910072312\n",
      "19814 8410097376\n",
      "19856 40"
     ]
    },
    {
     "name": "stderr",
     "output_type": "stream",
     "text": [
      "<ipython-input-74-ee257688a383>:170: RuntimeWarning: invalid value encountered in true_divide\n",
      "  term = ((term - term.min())/(term.max()-term.min()))*np.random.random()\n"
     ]
    },
    {
     "name": "stdout",
     "output_type": "stream",
     "text": [
      "19893 7710062793\n",
      "19978 8410098535\n",
      "20064 8510095549\n",
      "20073 8"
     ]
    },
    {
     "name": "stderr",
     "output_type": "stream",
     "text": [
      "<ipython-input-74-ee257688a383>:170: RuntimeWarning: invalid value encountered in true_divide\n",
      "  term = ((term - term.min())/(term.max()-term.min()))*np.random.random()\n"
     ]
    },
    {
     "name": "stdout",
     "output_type": "stream",
     "text": [
      "20145 7910068792\n",
      "20225 7910070764\n",
      "20309 8310094976\n",
      "20389 7910066470\n",
      "20417 26"
     ]
    },
    {
     "name": "stderr",
     "output_type": "stream",
     "text": [
      "<ipython-input-74-ee257688a383>:129: RuntimeWarning: invalid value encountered in true_divide\n",
      "  y_prev = (y_prev - y_prev.min()) /(y_prev.max() - y_prev.min())\n"
     ]
    },
    {
     "name": "stdout",
     "output_type": "stream",
     "text": [
      "20446 54"
     ]
    },
    {
     "name": "stderr",
     "output_type": "stream",
     "text": [
      "<ipython-input-74-ee257688a383>:129: RuntimeWarning: invalid value encountered in true_divide\n",
      "  y_prev = (y_prev - y_prev.min()) /(y_prev.max() - y_prev.min())\n"
     ]
    },
    {
     "name": "stdout",
     "output_type": "stream",
     "text": [
      "20474 80"
     ]
    },
    {
     "name": "stderr",
     "output_type": "stream",
     "text": [
      "<ipython-input-74-ee257688a383>:115: RuntimeWarning: invalid value encountered in true_divide\n",
      "  y_prev = (y_prev - y_prev.min()) /(y_prev.max() - y_prev.min())\n"
     ]
    },
    {
     "name": "stdout",
     "output_type": "stream",
     "text": [
      "10070006\n",
      "20554 7910071134\n",
      "20637 8210085804\n",
      "20717 7910067223\n",
      "20797 7910075161\n",
      "20877 7910075425\n",
      "20961 8210088869\n",
      "21048 8610098885\n",
      "21128 7910070125\n",
      "21209 7910069259\n",
      "21294 8410094772\n",
      "21374 7910060218\n",
      "21457 8210092059\n",
      "21542 8410096346\n",
      "21626 8310091283\n",
      "21707 8010059704\n",
      "21786 7810064882\n",
      "21856 68"
     ]
    },
    {
     "name": "stderr",
     "output_type": "stream",
     "text": [
      "<ipython-input-74-ee257688a383>:170: RuntimeWarning: invalid value encountered in true_divide\n",
      "  term = ((term - term.min())/(term.max()-term.min()))*np.random.random()\n"
     ]
    },
    {
     "name": "stdout",
     "output_type": "stream",
     "text": [
      "21864 7610054976\n",
      "21948 8210084106\n",
      "22028 7910073938\n",
      "22106 7710061028\n",
      "22187 8010071974\n",
      "22266 7810056884\n",
      "22345 7810069775\n",
      "22424 7810061200\n",
      "22504 7810067934\n",
      "22588 8310092237\n",
      "22669 8010070917\n",
      "22748 77"
     ]
    },
    {
     "name": "stderr",
     "output_type": "stream",
     "text": [
      "<ipython-input-74-ee257688a383>:115: RuntimeWarning: invalid value encountered in true_divide\n",
      "  y_prev = (y_prev - y_prev.min()) /(y_prev.max() - y_prev.min())\n"
     ]
    },
    {
     "name": "stdout",
     "output_type": "stream",
     "text": [
      "22751 8010073521\n",
      "22834 8210087522\n",
      "22914 7910069408\n",
      "22995 7910069951\n",
      "23078 8210083470\n",
      "23157 7810062435\n",
      "23241 8310092991\n",
      "23325 8310089546\n",
      "23332 6"
     ]
    },
    {
     "name": "stderr",
     "output_type": "stream",
     "text": [
      "<ipython-input-74-ee257688a383>:115: RuntimeWarning: invalid value encountered in true_divide\n",
      "  y_prev = (y_prev - y_prev.min()) /(y_prev.max() - y_prev.min())\n"
     ]
    },
    {
     "name": "stdout",
     "output_type": "stream",
     "text": [
      "23409 8210088450\n",
      "23488 7810060589\n",
      "23566 7710064384\n",
      "23646 7910071800\n",
      "23727 8010072622\n",
      "23813 8510103654\n",
      "23892 7710057344\n",
      "23972 7910069741\n",
      "24032 58"
     ]
    },
    {
     "name": "stderr",
     "output_type": "stream",
     "text": [
      "<ipython-input-74-ee257688a383>:170: RuntimeWarning: invalid value encountered in true_divide\n",
      "  term = ((term - term.min())/(term.max()-term.min()))*np.random.random()\n"
     ]
    },
    {
     "name": "stdout",
     "output_type": "stream",
     "text": [
      "24054 8010082762\n",
      "24131 7610058212\n",
      "24214 8210085972\n",
      "24295 8010066802\n",
      "24382 8610102537\n",
      "24461 7810061111\n",
      "24540 7810064061\n",
      "24623 8110077693\n",
      "24701 7710052065\n",
      "24785 8210082010\n",
      "24866 8010078220\n",
      "24947 8010074457\n",
      "25036 8710114484\n",
      "25120 8310090332\n",
      "25202 8010075388\n",
      "25282 7910062197\n",
      "25363 8010073262\n",
      "25448 8410093897\n",
      "25533 8410085250\n",
      "25611 7710062796\n",
      "25693 8010073059\n",
      "25767 72"
     ]
    },
    {
     "name": "stderr",
     "output_type": "stream",
     "text": [
      "<ipython-input-74-ee257688a383>:115: RuntimeWarning: invalid value encountered in true_divide\n",
      "  y_prev = (y_prev - y_prev.min()) /(y_prev.max() - y_prev.min())\n"
     ]
    },
    {
     "name": "stdout",
     "output_type": "stream",
     "text": [
      "25777 8210087165\n",
      "25859 8110080251\n",
      "25945 8510104593\n",
      "25952 5"
     ]
    },
    {
     "name": "stderr",
     "output_type": "stream",
     "text": [
      "<ipython-input-74-ee257688a383>:129: RuntimeWarning: invalid value encountered in true_divide\n",
      "  y_prev = (y_prev - y_prev.min()) /(y_prev.max() - y_prev.min())\n"
     ]
    },
    {
     "name": "stdout",
     "output_type": "stream",
     "text": [
      "26027 8010081746\n",
      "26111 8310082449\n",
      "26192 8010075317\n",
      "26272 7910073392\n",
      "26354 8110079095\n",
      "26442 8710112946\n",
      "26528 8410098991\n",
      "26606 7710059122\n",
      "26686 7910068036\n",
      "26764 7710048711\n",
      "26847 8210084916\n",
      "26934 8610103864\n",
      "27018 8210081193\n",
      "27105 8610107736\n",
      "27195 8810114324\n",
      "27274 7810069620\n",
      "27287 12"
     ]
    },
    {
     "name": "stderr",
     "output_type": "stream",
     "text": [
      "<ipython-input-74-ee257688a383>:115: RuntimeWarning: invalid value encountered in true_divide\n",
      "  y_prev = (y_prev - y_prev.min()) /(y_prev.max() - y_prev.min())\n"
     ]
    },
    {
     "name": "stdout",
     "output_type": "stream",
     "text": [
      "27358 8210083501\n",
      "27441 8110085168\n",
      "27493 50"
     ]
    },
    {
     "name": "stderr",
     "output_type": "stream",
     "text": [
      "<ipython-input-74-ee257688a383>:170: RuntimeWarning: invalid value encountered in true_divide\n",
      "  term = ((term - term.min())/(term.max()-term.min()))*np.random.random()\n"
     ]
    },
    {
     "name": "stdout",
     "output_type": "stream",
     "text": [
      "27525 8210087325\n",
      "27604 7810067531\n",
      "27685 8010074680\n",
      "27767 8110074952\n",
      "27850 8210090634\n",
      "27930 7910071169\n",
      "28014 8310089213\n",
      "28096 8010077575\n",
      "28173 7610052652\n",
      "28257 81"
     ]
    },
    {
     "name": "stderr",
     "output_type": "stream",
     "text": [
      "<ipython-input-74-ee257688a383>:115: RuntimeWarning: invalid value encountered in true_divide\n",
      "  y_prev = (y_prev - y_prev.min()) /(y_prev.max() - y_prev.min())\n"
     ]
    },
    {
     "name": "stdout",
     "output_type": "stream",
     "text": [
      "28259 8310090779\n",
      "28341 8110080015\n",
      "28351 8"
     ]
    },
    {
     "name": "stderr",
     "output_type": "stream",
     "text": [
      "<ipython-input-74-ee257688a383>:115: RuntimeWarning: invalid value encountered in true_divide\n",
      "  y_prev = (y_prev - y_prev.min()) /(y_prev.max() - y_prev.min())\n"
     ]
    },
    {
     "name": "stdout",
     "output_type": "stream",
     "text": [
      "28424 8110085266\n",
      "28497 70"
     ]
    },
    {
     "name": "stderr",
     "output_type": "stream",
     "text": [
      "<ipython-input-74-ee257688a383>:170: RuntimeWarning: invalid value encountered in true_divide\n",
      "  term = ((term - term.min())/(term.max()-term.min()))*np.random.random()\n"
     ]
    },
    {
     "name": "stdout",
     "output_type": "stream",
     "text": [
      "28508 8110085060\n",
      "28590 8110086427\n",
      "28675 8410100127\n",
      "28760 8410097894\n",
      "28842 8110084923\n",
      "28921 7710055752\n",
      "29010 8810111787\n",
      "29035 23"
     ]
    },
    {
     "name": "stderr",
     "output_type": "stream",
     "text": [
      "<ipython-input-74-ee257688a383>:170: RuntimeWarning: invalid value encountered in true_divide\n",
      "  term = ((term - term.min())/(term.max()-term.min()))*np.random.random()\n"
     ]
    },
    {
     "name": "stdout",
     "output_type": "stream",
     "text": [
      "29089 7710050094\n",
      "29167 7710060468\n",
      "29246 7810062342\n",
      "29330 8310092644\n",
      "29411 8010078338\n",
      "29493 8010077192\n",
      "29572 7810061611\n",
      "29654 8110077255\n",
      "29739 8410081270\n",
      "29818 7810061737\n",
      "29901 8210087164\n",
      "29984 8210090117\n",
      "30066 8110081604\n",
      "30148 8110081416\n",
      "30228 7810063716\n",
      "30312 8310091089\n",
      "30397 8410090749\n",
      "30478 8010074907\n",
      "30562 8310091275\n",
      "30579 15"
     ]
    },
    {
     "name": "stderr",
     "output_type": "stream",
     "text": [
      "<ipython-input-74-ee257688a383>:115: RuntimeWarning: invalid value encountered in true_divide\n",
      "  y_prev = (y_prev - y_prev.min()) /(y_prev.max() - y_prev.min())\n"
     ]
    },
    {
     "name": "stdout",
     "output_type": "stream",
     "text": [
      "30642 7810064838\n",
      "30725 8210075128\n",
      "30801 74"
     ]
    },
    {
     "name": "stderr",
     "output_type": "stream",
     "text": [
      "<ipython-input-74-ee257688a383>:170: RuntimeWarning: invalid value encountered in true_divide\n",
      "  term = ((term - term.min())/(term.max()-term.min()))*np.random.random()\n"
     ]
    },
    {
     "name": "stdout",
     "output_type": "stream",
     "text": [
      "\r",
      "30802 75\r",
      "30803 76\r",
      "30804 77"
     ]
    }
   ],
   "source": [
    "\n",
    "class function_generator():\n",
    "    def __init__(self, sample_size=100):\n",
    "\n",
    "        self.operations = [\"arccos\",\"arccosh\",\"arcsin\",\"arcsinh\",\"arctan\",\"arctan2\",\n",
    "                          \"arctanh\",\"heaviside\",\"log\",\"log10\",\"log1p\",\"log2\",\n",
    "                          \"multiply\",\"sin\",\"sinh\",\"sqrt\",\"square\",\"tan\",\n",
    "                          \"tanh\",\"divide\", 'add', 'subtract']\n",
    "\n",
    "        # one term operations\n",
    "        self.one_term_operations = [\"arccos\",\"arccosh\",\"arcsin\",\"arcsinh\",\"arctan\",\n",
    "                                    \"arctanh\",\"log\",\"log10\",\"log1p\",\"log2\",\"sin\",\n",
    "                                    \"sinh\",\"sqrt\",\"square\",\"tan\",\"tanh\"]\n",
    "\n",
    "        self.hyppo_functions= [\"linear\",\"exponential\",\"cubic\", \"joint_normal\",\n",
    "                    \"step\",\"quadratic\", \"w_shaped\", \"spiral\",\n",
    "                    \"logarithmic\", \"fourth_root\", \"sin_four_pi\", \"sin_sixteen_pi\",\n",
    "                    \"square\", \"two_parabolas\", \"circle\", \"ellipse\", \"diamond\",\n",
    "                    \"multiplicative_noise\", \"multimodal_independence\"]\n",
    "\n",
    "        # two term operations\n",
    "        self.two_term_operations = [\"arctan2\", \"heaviside\", \"multiply\",\n",
    "                                    \"divide\"]\n",
    "\n",
    "        \n",
    "\n",
    "        # TODO adding and subtracting new terms\n",
    "        self.add_term_operations = [\"add\", \"subtract\"]\n",
    "\n",
    "        # check if all operations are contained in the other sets\n",
    "        assert (set(self.one_term_operations).union(set(self.two_term_operations)).\n",
    "                union(set(self.add_term_operations)) == set(self.operations))\n",
    "        \n",
    "        self.sample_size = sample_size\n",
    "\n",
    "        self.operation_scale_dict = {\"arccos\":  (-0.99,0.99),\n",
    "                                      \"arccosh\": (1.01,10),\n",
    "                                      \"arcsin\":  (-0.99,0.99),\n",
    "                                      \"arcsinh\": (-np.pi,np.pi),\n",
    "                                      \"arctan\":  (-3,3),\n",
    "                                      \"arctan2\": ((-0.99,0.99),(-0.99,0.99)),\n",
    "                                      \"arctanh\": (-0.99,0.99),\n",
    "                                      \"heaviside\": ((-0.99,0.99),(-0.99,0.99)),\n",
    "                                      \"log\": (0.01, 3),\n",
    "                                      \"log10\": (0.01, 3),\n",
    "                                      \"log1p\": (0.01, 3),\n",
    "                                      \"log2\": (0.01, 3),\n",
    "                                      \"multiply\": ((-1,1), (-1,1)),\n",
    "                                      \"sin\": (-np.pi,np.pi),\n",
    "                                      \"sinh\": (-3,3),\n",
    "                                      \"sqrt\": (0,1),\n",
    "                                      \"square\": (-1,1),\n",
    "                                      \"tan\": (-np.pi/2+0.01, np.pi/2-0.01),\n",
    "                                      \"tanh\":(-np.pi, np.pi),\n",
    "                                      \"divide\": ((-2,2),(0.01,2)),\n",
    "                                      \"subtract\": (-1,1),\n",
    "                                      \"add\": (-1,1)}\n",
    "\n",
    "        self.samples_dict = {}\n",
    "\n",
    "\n",
    "    def yield_sample(self):\n",
    "        \"\"\"calls the other methods to yield samples lazily\"\"\"\n",
    "        while True:\n",
    "            \n",
    "            # initialize the y_prev and x\n",
    "            init_operator = np.random.choice(self.hyppo_functions)\n",
    "            if init_operator in ['multiplicative_noise','multimodal_independence']:\n",
    "                x, y_init = getattr(hyppo.tools, init_operator)(self.sample_size, 1)\n",
    "            else:\n",
    "                noise = np.random.choice([True, False], p=[0.3, 0.7])\n",
    "                x, y_init = getattr(hyppo.tools, init_operator)(self.sample_size, 1,\n",
    "                                                                noise=bool(noise))\n",
    "                \n",
    "            \n",
    "            y_prev=y_init\n",
    "            # store the operations for targets\n",
    "            order_of_operations=[init_operator]\n",
    "\n",
    "            \n",
    "\n",
    "            #initialize a list for the terms\n",
    "            terms = []\n",
    "\n",
    "            # this controls how many successive operations are likely to happen\n",
    "            rand=np.random.random()\n",
    "            operation_count = 0\n",
    "            while rand > 0.6 or len(order_of_operations)<2:\n",
    "                # see if we add a new operation after this one\n",
    "                rand = np.random.random()\n",
    "                # get a random operator from the possible operators\n",
    "                # and append it to a list that can be used as category targets\n",
    "                # later\n",
    "                operator = np.random.choice(self.operations)\n",
    "                # increase the likelihood of creating a new term if there are already\n",
    "                # a lot of operations, reset to zero if a new term has just been created\n",
    "                if operation_count*(rand**2) > rand or operation_count>2:\n",
    "                    operator = np.random.choice(self.add_term_operations)\n",
    "\n",
    "\n",
    "\n",
    "                operation_count +=1\n",
    "\n",
    "                # get the actual function with this operator\n",
    "                funct = getattr(np, operator)\n",
    "\n",
    "                # TODO scale y_prev based on range that creates a representative shape \n",
    "                # of the selected function\n",
    "                scale = self.operation_scale_dict[operator]\n",
    "                if operator in self.one_term_operations:\n",
    "                    order_of_operations.append(operator)\n",
    "                    low = scale[0]\n",
    "                    high = scale[1]\n",
    "                    \n",
    "                    # scale to 0-1\n",
    "                    y_prev = (y_prev - y_prev.min()) /(y_prev.max() - y_prev.min())\n",
    "                    # scale to new scale\n",
    "                    y_prev = y_prev*(high-low) + low\n",
    "                    \n",
    "                    #update the result and y_prev for the next operation\n",
    "                    y = funct(y_prev)\n",
    "                    y_prev = y\n",
    "\n",
    "                elif operator in self.two_term_operations:\n",
    "                    order_of_operations.append(operator)\n",
    "\n",
    "                    # y_prev\n",
    "                    low_y, high_y= scale[0]\n",
    "                    # scale to 0-1\n",
    "                    y_prev = (y_prev - y_prev.min()) /(y_prev.max() - y_prev.min())\n",
    "                    # scale to new scale\n",
    "                    y_prev = y_prev*(high_y-low_y) + low_y\n",
    "\n",
    "                    # y_temp\n",
    "                    low_x, high_x= scale[1]\n",
    "                    # scale to 0-1\n",
    "                    x_temp = (x - x.min()) /(x.max() - x.min())\n",
    "                    # scale to new scale\n",
    "                    x_temp = x_temp*(high_x-low_x) + low_x\n",
    "\n",
    "                    #update the result and y_prev for the next operation\n",
    "                    y = funct(y_prev, x_temp)\n",
    "                    y_prev = y\n",
    "\n",
    "                elif operator in self.add_term_operations and operation_count>1:\n",
    "                    # append operation\n",
    "                    order_of_operations.append(operator)\n",
    "                    terms.append(y_prev)\n",
    "\n",
    "                    # reset y_prev for a new term\n",
    "                    y_prev = y_init\n",
    "                    order_of_operations.append(init_operator)\n",
    "                    operation_count=0\n",
    "                    # still have to actually perform the operation. Addition and subtraction happen later\n",
    "\n",
    "                elif operator in self.add_term_operations and operation_count<=1:\n",
    "                    rand=1\n",
    "          \n",
    "            y=y_prev\n",
    "            #append the last term\n",
    "            terms.append(y)\n",
    "            if len(terms)>1:\n",
    "                # get the order of operation\n",
    "                term_operators = [operator for operator in order_of_operations if (operator in self.add_term_operations)]\n",
    "\n",
    "                self.terms = terms\n",
    "\n",
    "                # scale all terms\n",
    "                for i, term in enumerate(terms):\n",
    "                    term = np.array(term)\n",
    "                    term = ((term - term.min())/(term.max()-term.min()))*np.random.random()\n",
    "                    terms[i] = term\n",
    "\n",
    "                y_temp = terms[0]\n",
    "                for i, operator in enumerate(term_operators):\n",
    "                    # get the function with this operator\n",
    "                    funct = getattr(np, operator)\n",
    "                    term_after = terms[i+1]\n",
    "                    y_temp = funct(y_temp, term_after)\n",
    "\n",
    "                # plt.plot(x, np.array(terms).T)\n",
    "\n",
    "                y=y_temp\n",
    "          # plt.plot(x, y, 'ro', markersize=2)\n",
    "          # plt.pause(0.001)\n",
    "          \n",
    "\n",
    "            yield (x, y), order_of_operations\n",
    "\n",
    "\n",
    "  \n",
    "\n",
    "    def generate_MGC_maps(self, n_samples):\n",
    "\n",
    "        # instantiate the generator\n",
    "        gen = self.yield_sample()\n",
    "\n",
    "\n",
    "        labels = []\n",
    "        # generate the data\n",
    "        for i in range(n_samples):\n",
    "            print(f\"\\r{i} {len(self.samples_dict)}\", end=\"\")\n",
    "            (x, y), label = next(gen)\n",
    "            labels.append(label)\n",
    "            try:\n",
    "                if not any(np.isnan(y)):\n",
    "                    with warnings.catch_warnings():\n",
    "                        warnings.simplefilter(\"ignore\")\n",
    "                        _,_,MGC_DICT = MGC(x,y, reps=0, workers=-1)\n",
    "#                     fig, axs = plt.subplots(1,2)\n",
    "#                     axs[0].imshow(MGC_DICT[\"mgc_map\"])\n",
    "#                     axs[0].set_title(label)\n",
    "#                     axs[0].invert_yaxis()\n",
    "#                     axs[1].twinx()\n",
    "#                     axs[1].plot(x, y, 'ro', markersize=2)\n",
    "#                     plt.pause(0.001)\n",
    "                    \n",
    "                    self.samples_dict[i] = (MGC_DICT['mgc_map'], (x,y), label)\n",
    "                    dict_size = get_size(self.samples_dict)\n",
    "                    if dict_size>10e6:\n",
    "                        print(dict_size)\n",
    "                        path=Path(\"data\")\n",
    "                        num=len(list(path.glob(\"*\")))\n",
    "                        \n",
    "                        with open(Path(path, str(num)+\".pkl\"), 'wb') as fp:\n",
    "                             pickle.dump(self.samples_dict, fp)\n",
    "                                  \n",
    "                        self.samples_dict={}\n",
    "                        \n",
    "\n",
    "            except IndexError:\n",
    "                pass\n",
    "\n",
    "\n",
    "\n",
    "\n",
    "class_instance = function_generator(128)\n",
    "generator = class_instance.yield_sample()\n",
    "class_instance.generate_MGC_maps(100000)\n",
    "\n",
    "#should be around 12 gb of data"
   ]
  },
  {
   "cell_type": "code",
   "execution_count": null,
   "metadata": {
    "id": "hrgFleOjAyeT"
   },
   "outputs": [],
   "source": [
    "\n",
    "class function_generator():\n",
    "  def __init__(self, sample_size=100):\n",
    "\n",
    "\n",
    "\n",
    "    self.hyppo_functions= [\"linear\",\"exponential\",\"cubic\", \"joint_normal\",\n",
    "                \"step\",\"quadratic\", \"w_shaped\", \"spiral\", \"uncorrelated_bernoulli\",\n",
    "                \"logarithmic\", \"fourth_root\", \"sin_four_pi\", \"sin_sixteen_pi\",\n",
    "                \"square\", \"two_parabolas\", \"circle\", \"ellipse\", \"diamond\",\n",
    "                \"multiplicative_noise\", \"multimodal_independence\"]\n",
    "    \n",
    "    \n",
    "    self.SIZE = sample_size\n",
    "\n",
    "\n",
    "  def yield_sample(self):\n",
    "    \"\"\"calls the other methods to yield samples lazily\"\"\"\n",
    "    while True:\n",
    "      # get scaling factors randomly selected from an exponential distribution\n",
    "      a = np.random.exponential()#scale = np.abs(np.random.random()))\n",
    "      b = np.random.exponential()#scale = np.abs(np.random.random()))\n",
    "\n",
    "      operator = np.random.choice(self.hyppo_functions)\n",
    "      print(operator)\n",
    "\n",
    "      funct = getattr(hyppo.tools, operator)\n",
    "\n",
    "      if operator in ['multiplicative','multimodal_independence']:\n",
    "        noise = False\n",
    "      else:\n",
    "        noise = False\n",
    "\n",
    "      if operator in [\"linear\",\"exponential\",\"cubic\", \"step\",\"quadratic\", \n",
    "                      \"w_shaped\", \"spiral\", \"fourth_root\", \"sin_four_pi\", \n",
    "                      \"sin_sixteen_pi\",\"square\", \"circle\", \n",
    "                      \"ellipse\", \"diamond\"]:\n",
    "        x, y = funct(self.SIZE,1, noise=noise, low=min(a,b), high=max(a,b))\n",
    "      \n",
    "      elif operator ==\"two_parabolas\":\n",
    "        x, y = funct(self.SIZE,1, noise=noise, low=min(a,b), high=max(a,b), \n",
    "                     prob=np.random.random())\n",
    "        \n",
    "      elif operator == 'uncorrelated_bernoulli':\n",
    "        x, y = funct(self.SIZE,1, noise=noise, prob=np.random.random())\n",
    "\n",
    "      elif operator in [\"joint_normal\", \"logarithmic\"]:\n",
    "        x, y = funct(self.SIZE,1, noise=noise)\n",
    "      \n",
    "      elif operator == 'multimodal_independence':\n",
    "        x, y = funct(self.SIZE,1, prob=np.random.random(), sep1=a, sep2=b)\n",
    "\n",
    "      elif operator == 'multiplicative':\n",
    "        x, y = funct(self.SIZE,1)\n",
    "\n",
    "      yield (x, y), operator\n",
    "\n",
    "  def generate_MGC_maps(self, n_samples):\n",
    "\n",
    "    # instantiate the generator\n",
    "    gen = self.yield_sample()\n",
    "\n",
    "\n",
    "    labels = []\n",
    "    # generate the data\n",
    "    for i in range(n_samples):\n",
    "      print(i)\n",
    "      (x, y), label = next(gen)\n",
    "      \n",
    "      labels.append(label)\n",
    "      with warnings.catch_warnings():\n",
    "        warnings.simplefilter(\"ignore\")\n",
    "        _,_,MGC_DICT = MGC(x,y, reps=0)\n",
    "        fig, axs = plt.subplots(1,2)\n",
    "        axs[0].imshow(MGC_DICT[\"mgc_map\"])\n",
    "        axs[0].set_title(label)\n",
    "        axs[0].invert_yaxis()\n",
    "        axs[1].twinx()\n",
    "        axs[1].plot(x, y, 'ro', markersize=2)\n",
    "        plt.pause(0.001)\n",
    "\n",
    "\n",
    "\n",
    "\n",
    "class_instance = function_generator(100)\n",
    "generator = class_instance.yield_sample()\n",
    "class_instance.generate_MGC_maps(100)\n",
    "\n",
    "    # plt.title(order_of_operations)\n",
    "    # stat, p_value, mgc_dict = MGC(x, y, reps=0)\n",
    "    # plt.twinx().imshow(mgc_dict['mgc_map'], cmap='Purples')\n",
    "    # plt.gca().invert_yaxis()\n",
    "    # plt.plot(x,y, 'ro', markersize=2)\n",
    "    # plt.pause(0.000000001)\n",
    "\n"
   ]
  },
  {
   "cell_type": "code",
   "execution_count": null,
   "metadata": {
    "colab": {
     "base_uri": "https://localhost:8080/",
     "height": 767
    },
    "id": "GgSpcv_xfdzt",
    "outputId": "04263972-48a4-48df-d935-dfa131d4977d"
   },
   "outputs": [
    {
     "name": "stdout",
     "output_type": "stream",
     "text": [
      "0.4867827172013097\n",
      "square\n",
      "0.7871696835466937\n",
      "square\n",
      "0.5940196566066747\n",
      "add\n",
      "terms 1\n",
      "0.6482973883105771\n",
      "tanh\n",
      "0.28446583917160795\n",
      "log10\n",
      "len terms 2\n",
      "['add']\n"
     ]
    },
    {
     "data": {
      "image/png": "[encoded data removed]",
      "text/plain": [
       "<Figure size 432x288 with 1 Axes>"
      ]
     },
     "metadata": {
      "tags": []
     },
     "output_type": "display_data"
    },
    {
     "data": {
      "text/plain": [
       "Text(0.5, 1.0, \"['square', 'square', 'add', 'tanh', 'log10']\")"
      ]
     },
     "execution_count": 998,
     "metadata": {
      "tags": []
     },
     "output_type": "execute_result"
    },
    {
     "data": {
      "image/png": "[encoded data removed]",
      "text/plain": [
       "<Figure size 432x288 with 1 Axes>"
      ]
     },
     "metadata": {
      "tags": []
     },
     "output_type": "display_data"
    }
   ],
   "source": [
    "(x_test, y_test), order = next(generator)\n",
    "plt.plot(x_test, y_test, 'o-', markersize=2)\n",
    "plt.title(order)"
   ]
  }
 ],
 "metadata": {
  "colab": {
   "collapsed_sections": [],
   "name": "Create_Data_MGC.ipynb",
   "provenance": []
  },
  "kernelspec": {
   "display_name": "Python 3",
   "language": "python",
   "name": "python3"
  },
  "language_info": {
   "codemirror_mode": {
    "name": "ipython",
    "version": 3
   },
   "file_extension": ".py",
   "mimetype": "text/x-python",
   "name": "python",
   "nbconvert_exporter": "python",
   "pygments_lexer": "ipython3",
   "version": "3.8.3"
  }
 },
 "nbformat": 4,
 "nbformat_minor": 1
}
